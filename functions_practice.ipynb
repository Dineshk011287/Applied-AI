{
 "cells": [
  {
   "cell_type": "markdown",
   "id": "2fa6efac",
   "metadata": {},
   "source": [
    "#### 1. Write a function that inputs a number and prints the multiplication table of that number"
   ]
  },
  {
   "cell_type": "code",
   "execution_count": 8,
   "id": "3e535274",
   "metadata": {},
   "outputs": [
    {
     "name": "stdout",
     "output_type": "stream",
     "text": [
      "Multiplication table of 8 is:\n",
      "8 * 1 = 8\n",
      "8 * 2 = 16\n",
      "8 * 3 = 24\n",
      "8 * 4 = 32\n",
      "8 * 5 = 40\n",
      "8 * 6 = 48\n",
      "8 * 7 = 56\n",
      "8 * 8 = 64\n",
      "8 * 9 = 72\n",
      "8 * 10 = 80\n"
     ]
    }
   ],
   "source": [
    "n = 8\n",
    "print(\"Multiplication table of\", n, 'is:')\n",
    "\n",
    "def mult_table(n):\n",
    "    '''prints the multiplication table of that number'''\n",
    "    for i in range(1,11):\n",
    "        print(n , '*', i, '=', n * i)\n",
    "        \n",
    "mult_table(n)"
   ]
  },
  {
   "cell_type": "markdown",
   "id": "b30c4019",
   "metadata": {},
   "source": [
    "#### 2. Write a program to print twin primes  less than 1000. If two consecutive odd numbers are both prime then they are known as twin primes"
   ]
  },
  {
   "cell_type": "code",
   "execution_count": 17,
   "id": "575c5f84",
   "metadata": {},
   "outputs": [
    {
     "name": "stdout",
     "output_type": "stream",
     "text": [
      "3 5\n",
      "5 7\n",
      "11 13\n",
      "17 19\n",
      "29 31\n",
      "41 43\n",
      "59 61\n",
      "71 73\n",
      "101 103\n",
      "107 109\n",
      "137 139\n",
      "149 151\n",
      "179 181\n",
      "191 193\n",
      "197 199\n",
      "227 229\n",
      "239 241\n",
      "269 271\n",
      "281 283\n",
      "311 313\n",
      "347 349\n",
      "419 421\n",
      "431 433\n",
      "461 463\n",
      "521 523\n",
      "569 571\n",
      "599 601\n",
      "617 619\n",
      "641 643\n",
      "659 661\n",
      "809 811\n",
      "821 823\n",
      "827 829\n",
      "857 859\n",
      "881 883\n"
     ]
    }
   ],
   "source": [
    "def prime_num(n):\n",
    "    '''returns prime number'''\n",
    "    for i in range(2,n):\n",
    "        if n % i == 0:\n",
    "            return False\n",
    "    else:\n",
    "        return True\n",
    "        \n",
    "def twin_prime(n):\n",
    "    '''return twin prime numbers'''\n",
    "    for i in range(2,n):\n",
    "        j = i + 2\n",
    "        if prime_num(i) and prime_num(j):\n",
    "            print(i,j)\n",
    "\n",
    "twin_prime(1000)"
   ]
  },
  {
   "cell_type": "markdown",
   "id": "57776c36",
   "metadata": {},
   "source": [
    "#### 3. Write a program to find out the prime factors of a number. Example: prime factors of 56 - 2, 2, 2, 7"
   ]
  },
  {
   "cell_type": "code",
   "execution_count": 37,
   "id": "217b061f",
   "metadata": {},
   "outputs": [
    {
     "data": {
      "text/plain": [
       "[2, 2, 2, 7]"
      ]
     },
     "execution_count": 37,
     "metadata": {},
     "output_type": "execute_result"
    }
   ],
   "source": [
    "def prime_fact(n):\n",
    "    '''returns prime factors of a given number'''\n",
    "    fact = []\n",
    "    i = 2\n",
    "    while n > 1:\n",
    "        if n % i == 0:\n",
    "            fact.append(i)\n",
    "            n = n // i\n",
    "        else:\n",
    "            i = i + 1\n",
    "    return fact \n",
    "\n",
    "prime_fact(56)"
   ]
  },
  {
   "cell_type": "markdown",
   "id": "85ae3a74",
   "metadata": {},
   "source": [
    "#### 4. Write a program to implement these formulae of permutations and combinations. \n",
    "Number of permutations of n objects taken r at a time: p(n, r) = n! / (n-r)!.  \n",
    "Number of combinations of n objects taken r at a time is: c(n, r) = n! / (r!*(n-r)!) = p(n,r) / r!"
   ]
  },
  {
   "cell_type": "code",
   "execution_count": 46,
   "id": "513ad77f",
   "metadata": {},
   "outputs": [
    {
     "name": "stdout",
     "output_type": "stream",
     "text": [
      "Permutations is 32760.0\n",
      "Combination is 1365.0\n"
     ]
    }
   ],
   "source": [
    "def fact(n):\n",
    "    '''returns factorial of a given number'''\n",
    "    if n == 1 or n == 0:\n",
    "        return 1\n",
    "    else:\n",
    "        return n * fact(n-1)\n",
    "        \n",
    "def perm(n,r):\n",
    "    '''returns permutations'''\n",
    "    return fact(n) / fact(n-r)\n",
    "    \n",
    "def comb(n,r):\n",
    "    '''returns combinations'''\n",
    "    return fact(n) / (fact(r) * fact(n-r))\n",
    "    \n",
    "n = 15\n",
    "r = 4\n",
    "    \n",
    "print(\"Permutations is\", perm(n,r))\n",
    "print(\"Combination is\", comb(n,r))"
   ]
  },
  {
   "cell_type": "markdown",
   "id": "e0e92a0d",
   "metadata": {},
   "source": [
    "#### 5. Write a function that converts a decimal number to binary number"
   ]
  },
  {
   "cell_type": "code",
   "execution_count": 12,
   "id": "3567e179",
   "metadata": {},
   "outputs": [
    {
     "name": "stdout",
     "output_type": "stream",
     "text": [
      "[1, 0, 1, 0, 1, 1, 1, 0]\n"
     ]
    }
   ],
   "source": [
    "def DecToBin(n):\n",
    "    '''converts a decimal number to binary number'''\n",
    "    result = []\n",
    "    while n > 0:\n",
    "        result.append(n % 2,)\n",
    "        n = n // 2\n",
    "    return result\n",
    "\n",
    "l = DecToBin(174)\n",
    "print(l[::-1])"
   ]
  },
  {
   "cell_type": "markdown",
   "id": "c21ad24c",
   "metadata": {},
   "source": [
    "#### 6. Write a function cubesum() that accepts an integer and returns the sum of the cubes of individual digits of that number. Use this function to make functions PrintArmstrong() and isArmstrong() to print Armstrong numbers and to find whether is an Armstrong number."
   ]
  },
  {
   "cell_type": "code",
   "execution_count": 14,
   "id": "e0d09ba8",
   "metadata": {},
   "outputs": [],
   "source": [
    "def cubesum(n):\n",
    "    '''returns the sum of the cubes of individual digits of that number'''\n",
    "    sum = 0\n",
    "    while n > 0:\n",
    "        sum = sum + ((n % 10) ** 3)\n",
    "        n = n // 10\n",
    "    return sum"
   ]
  },
  {
   "cell_type": "code",
   "execution_count": 23,
   "id": "c4ad0286",
   "metadata": {},
   "outputs": [
    {
     "data": {
      "text/plain": [
       "True"
      ]
     },
     "execution_count": 23,
     "metadata": {},
     "output_type": "execute_result"
    }
   ],
   "source": [
    "def isArmstrong(n):\n",
    "    '''finds whether the number is armstrong number or not'''\n",
    "    if cubesum(n) == n:\n",
    "        return True\n",
    "    else:\n",
    "        return False\n",
    "        \n",
    "isArmstrong(153)"
   ]
  },
  {
   "cell_type": "code",
   "execution_count": 25,
   "id": "f956b21a",
   "metadata": {},
   "outputs": [
    {
     "name": "stdout",
     "output_type": "stream",
     "text": [
      "153\n",
      "370\n",
      "371\n",
      "407\n"
     ]
    }
   ],
   "source": [
    "def PrintArmstrong(n):\n",
    "    '''prints the armstrong number'''\n",
    "    for i in range(2,n):\n",
    "            if isArmstrong(i):\n",
    "                print(i)\n",
    "                \n",
    "PrintArmstrong(1000)"
   ]
  },
  {
   "cell_type": "markdown",
   "id": "376cbf77",
   "metadata": {},
   "source": [
    "#### 7. Write a function prodDigits() that inputs a number and returns the product of digits of that number."
   ]
  },
  {
   "cell_type": "code",
   "execution_count": 2,
   "id": "72d70147",
   "metadata": {},
   "outputs": [
    {
     "data": {
      "text/plain": [
       "6"
      ]
     },
     "execution_count": 2,
     "metadata": {},
     "output_type": "execute_result"
    }
   ],
   "source": [
    "def prodDigits(n):\n",
    "    '''returns the product of digits of the number'''\n",
    "    prod = 1\n",
    "    while n > 0:\n",
    "        prod = prod * (n % 10)\n",
    "        n = n // 10\n",
    "    return prod\n",
    "\n",
    "prodDigits(123)"
   ]
  },
  {
   "cell_type": "markdown",
   "id": "b9adae86",
   "metadata": {},
   "source": [
    "#### 8. If all digits of a number n are multiplied by each other repeating with the product, the one digit number obtained at last is called the multiplicative digital root of n. The number of times digits need to be multiplied to reach one digit is called the multiplicative persistance of n. \n",
    "Example: 86 -> 48 -> 32 -> 6 (MDR 6, MPersistence 3)\n",
    "               341 -> 12->2           (MDR 2, MPersistence 2)\n",
    "Using the function prodDigits() of previous exercise write functions MDR() and MPersistence() that input a number and return its multiplicative digital root and multiplicative persistence respectively"
   ]
  },
  {
   "cell_type": "code",
   "execution_count": 19,
   "id": "99ca410e",
   "metadata": {},
   "outputs": [
    {
     "name": "stdout",
     "output_type": "stream",
     "text": [
      "enter the number:86\n",
      "multiplicative digital root  =  6\n",
      "multiplicative persistence =  3\n"
     ]
    }
   ],
   "source": [
    "count=1\n",
    "def mdr(n):\n",
    "    global count\n",
    "    s=prodDigits(n)\n",
    "    while s>9:\n",
    "        count=count+1\n",
    "        s=prodDigits(s)\n",
    "    print(\"multiplicative digital root  = \",s)\n",
    " \n",
    "def mr():\n",
    "    print(\"multiplicative persistence = \",count)\n",
    "n=int(input(\"enter the number:\"))\n",
    "mdr(n)\n",
    "mr()"
   ]
  },
  {
   "cell_type": "markdown",
   "id": "16ab54be",
   "metadata": {},
   "source": [
    "#### 9. Write a function sumPdivisors() that finds the sum of proper divisors of a number. Proper divisors of a number are those numbers by which the number is divisible, except the number itself.  For example proper divisors of 36 are 1, 2, 3, 4, 6, 9, 18"
   ]
  },
  {
   "cell_type": "code",
   "execution_count": 30,
   "id": "9273a62f",
   "metadata": {},
   "outputs": [
    {
     "name": "stdout",
     "output_type": "stream",
     "text": [
      "55\n"
     ]
    }
   ],
   "source": [
    "def sumPdivisors(n):\n",
    "    '''returns the sum of proper divisors'''\n",
    "    sum = 0\n",
    "    div = [] \n",
    "    for i in range(1, n):\n",
    "        if n % i == 0:\n",
    "            sum = sum + i\n",
    "    return sum\n",
    "\n",
    "print(sumPdivisors(36)) "
   ]
  },
  {
   "cell_type": "markdown",
   "id": "43e178db",
   "metadata": {},
   "source": [
    "#### 10. A number is called perfect if the sum of proper divisors of that number is equal to the number. For example 28 is perfect number, since 1+2+4+7+14=28. Write a program to print all the perfect numbers in a given range"
   ]
  },
  {
   "cell_type": "code",
   "execution_count": 32,
   "id": "f518436d",
   "metadata": {},
   "outputs": [
    {
     "name": "stdout",
     "output_type": "stream",
     "text": [
      "28 is a perfect number\n"
     ]
    }
   ],
   "source": [
    "n = 28\n",
    "\n",
    "if sumPdivisors(n) == n:\n",
    "    print(n, 'is a perfect number')\n",
    "else:\n",
    "    print(n, 'is not a perfect number')"
   ]
  },
  {
   "cell_type": "markdown",
   "id": "38d2d163",
   "metadata": {},
   "source": [
    "#### 11. Two different numbers are called amicable numbers if the sum of the proper divisors of each is equal to the other number. For example 220 and 284 are amicable numbers.\n",
    "Sum of proper divisors of 220 = 1+2+4+5+10+11+20+22+44+55+110 = 284\n",
    "Sum of proper divisors of 284 = 1+2+4+71+142 = 220\n",
    "\n",
    "Write a function to print pairs of amicable numbers in a range"
   ]
  },
  {
   "cell_type": "code",
   "execution_count": 34,
   "id": "c6357fb4",
   "metadata": {},
   "outputs": [
    {
     "name": "stdout",
     "output_type": "stream",
     "text": [
      "220 & 284 are amicable number\n"
     ]
    }
   ],
   "source": [
    "n1 = 220\n",
    "n2 = 284\n",
    "\n",
    "if sumPdivisors(n1) == n2 and sumPdivisors(n2) == n1:\n",
    "    print(n1, '&', n2, 'are amicable number')\n",
    "else:\n",
    "    print(n1, '&', n2, 'are not amicable number')"
   ]
  },
  {
   "cell_type": "markdown",
   "id": "10d9b53b",
   "metadata": {},
   "source": [
    "#### 12. Write a program which can filter odd numbers in a list by using filter function"
   ]
  },
  {
   "cell_type": "code",
   "execution_count": 42,
   "id": "d1f490dc",
   "metadata": {},
   "outputs": [
    {
     "name": "stdout",
     "output_type": "stream",
     "text": [
      "[0, 1, 8, 27, 64, 125, 216, 343, 512, 729, 1000, 1331, 1728, 2197, 2744, 3375, 4096, 4913, 5832, 6859, 8000, 9261, 10648, 12167, 13824, 15625, 17576, 19683, 21952, 24389, 27000, 29791, 32768, 35937, 39304, 42875, 46656, 50653, 54872, 59319, 64000, 68921, 74088, 79507, 85184, 91125, 97336, 103823, 110592, 117649]\n"
     ]
    }
   ],
   "source": [
    "lst1 = (range(100))\n",
    "final_lst1 = list(filter(lambda x: x % 2 != 0, lst1))\n",
    "print(final_lst)"
   ]
  },
  {
   "cell_type": "markdown",
   "id": "124959b1",
   "metadata": {},
   "source": [
    "#### 13. Write a program which can map() to make a list whose elements are cube of elements in a given list"
   ]
  },
  {
   "cell_type": "code",
   "execution_count": 43,
   "id": "50d511da",
   "metadata": {},
   "outputs": [
    {
     "name": "stdout",
     "output_type": "stream",
     "text": [
      "[0, 1, 8, 27, 64, 125, 216, 343, 512, 729, 1000, 1331, 1728, 2197, 2744, 3375, 4096, 4913, 5832, 6859, 8000, 9261, 10648, 12167, 13824, 15625, 17576, 19683, 21952, 24389, 27000, 29791, 32768, 35937, 39304, 42875, 46656, 50653, 54872, 59319, 64000, 68921, 74088, 79507, 85184, 91125, 97336, 103823, 110592, 117649]\n"
     ]
    }
   ],
   "source": [
    "lst2 = (range(50))\n",
    "final_lst2 = list(map(lambda x: x ** 3, lst2))\n",
    "print(final_lst)"
   ]
  },
  {
   "cell_type": "markdown",
   "id": "b5848991",
   "metadata": {},
   "source": [
    "#### 14. Write a program which can map() and filter() to make a list whose elements are cube of even number in a given list"
   ]
  },
  {
   "cell_type": "code",
   "execution_count": 49,
   "id": "87890f78",
   "metadata": {},
   "outputs": [
    {
     "name": "stdout",
     "output_type": "stream",
     "text": [
      "[0, 8, 64, 216, 512, 1000, 1728, 2744, 4096, 5832, 8000, 10648, 13824, 17576, 21952, 27000, 32768, 39304, 46656, 54872, 64000, 74088, 85184, 97336, 110592]\n"
     ]
    }
   ],
   "source": [
    "lst3 = (range(50))\n",
    "s = list(filter(lambda x: x % 2 == 0, lst3))\n",
    "final_lst3 = list(map(lambda y: y ** 3, s))\n",
    "print(final_lst3)"
   ]
  }
 ],
 "metadata": {
  "kernelspec": {
   "display_name": "Python 3 (ipykernel)",
   "language": "python",
   "name": "python3"
  },
  "language_info": {
   "codemirror_mode": {
    "name": "ipython",
    "version": 3
   },
   "file_extension": ".py",
   "mimetype": "text/x-python",
   "name": "python",
   "nbconvert_exporter": "python",
   "pygments_lexer": "ipython3",
   "version": "3.11.5"
  }
 },
 "nbformat": 4,
 "nbformat_minor": 5
}
